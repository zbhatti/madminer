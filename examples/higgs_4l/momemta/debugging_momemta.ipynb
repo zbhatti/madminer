{
 "cells": [
  {
   "cell_type": "code",
   "execution_count": 1,
   "metadata": {},
   "outputs": [
    {
     "name": "stdout",
     "output_type": "stream",
     "text": [
      "[[-5.        ]\n",
      " [-4.7349485 ]\n",
      " [-4.469897  ]\n",
      " [-4.2048455 ]\n",
      " [-3.939794  ]\n",
      " [-3.6747425 ]\n",
      " [-3.409691  ]\n",
      " [-3.1446395 ]\n",
      " [-2.879588  ]\n",
      " [-2.6145365 ]\n",
      " [-2.349485  ]\n",
      " [-2.0844335 ]\n",
      " [-1.819382  ]\n",
      " [-1.5543305 ]\n",
      " [-1.289279  ]\n",
      " [-1.0242275 ]\n",
      " [-0.759176  ]\n",
      " [-0.4941245 ]\n",
      " [-0.229073  ]\n",
      " [ 0.0359785 ]\n",
      " [ 0.30103   ]\n",
      " [ 0.        ]\n",
      " [-2.39794001]]\n",
      "<type 'numpy.float64'>\n",
      "(23, 1)\n"
     ]
    }
   ],
   "source": [
    "import numpy as np\n",
    "import matplotlib.pyplot as plt\n",
    "import h5py\n",
    "momemta_out = '/home/zbhatti/codebase/madminer/examples/higgs_4l/momemta/weights1.csv'\n",
    "observations_local = '/scratch/madminer_data/data/miner_lhe_data_shuffled.h5'\n",
    "observations = h5py.File(observations_local, mode='r')\n",
    "print observations['benchmarks']['values'][:]\n",
    "print type(observations['benchmarks']['values'][0][0])\n",
    "print observations['benchmarks']['values'][:].shape"
   ]
  },
  {
   "cell_type": "code",
   "execution_count": 2,
   "metadata": {},
   "outputs": [
    {
     "name": "stdout",
     "output_type": "stream",
     "text": [
      "[1.00000e-05 3.38925e-05 1.14870e-04 3.89322e-04 1.31951e-03 4.47214e-03\n",
      " 1.51572e-02 5.13714e-02 1.74110e-01 2.00000e+00 4.00000e-03]\n"
     ]
    }
   ],
   "source": [
    "momemta_results = np.genfromtxt(momemta_out, delimiter=\",\", autostrip=True)\n",
    "print momemta_results[0,:-1] \n",
    "widths = momemta_results[0,:-1]\n",
    "ratios = momemta_results[1:,:-1]"
   ]
  },
  {
   "cell_type": "code",
   "execution_count": 3,
   "metadata": {},
   "outputs": [
    {
     "name": "stdout",
     "output_type": "stream",
     "text": [
      "[1.00000e-05 3.38925e-05 1.14870e-04 3.89322e-04 1.31951e-03 4.47214e-03\n",
      " 1.51572e-02 5.13714e-02 1.74110e-01 2.00000e+00 4.00000e-03]\n"
     ]
    }
   ],
   "source": [
    "print widths"
   ]
  },
  {
   "cell_type": "code",
   "execution_count": 4,
   "metadata": {},
   "outputs": [
    {
     "data": {
      "text/plain": [
       "(100, 11)"
      ]
     },
     "execution_count": 4,
     "metadata": {},
     "output_type": "execute_result"
    }
   ],
   "source": [
    "ratios.shape"
   ]
  },
  {
   "cell_type": "code",
   "execution_count": 5,
   "metadata": {},
   "outputs": [
    {
     "data": {
      "text/plain": [
       "array([3.48312289e+06, 2.87951658e+06, 1.25430786e+06, 3.96585117e+05,\n",
       "       1.07755458e+05, 2.24266939e+04, 3.23179597e+03, 3.45428391e+02,\n",
       "       3.22114655e+01, 2.50557980e-01, 2.62508957e+04])"
      ]
     },
     "execution_count": 5,
     "metadata": {},
     "output_type": "execute_result"
    }
   ],
   "source": [
    "average_ratios = np.mean(ratios, axis=0)\n",
    "average_ratios"
   ]
  },
  {
   "cell_type": "code",
   "execution_count": 6,
   "metadata": {},
   "outputs": [
    {
     "data": {
      "text/plain": [
       "array([1.00000e-05, 3.38925e-05, 1.14870e-04, 3.89322e-04, 1.31951e-03,\n",
       "       4.47214e-03, 1.51572e-02, 5.13714e-02, 1.74110e-01, 2.00000e+00,\n",
       "       4.00000e-03])"
      ]
     },
     "execution_count": 6,
     "metadata": {},
     "output_type": "execute_result"
    }
   ],
   "source": [
    "widths"
   ]
  },
  {
   "cell_type": "code",
   "execution_count": 7,
   "metadata": {},
   "outputs": [
    {
     "data": {
      "image/png": "[encoded data removed]",
      "text/plain": [
       "<Figure size 432x288 with 1 Axes>"
      ]
     },
     "metadata": {
      "needs_background": "light"
     },
     "output_type": "display_data"
    }
   ],
   "source": [
    "plt.plot(widths, -2*np.log(average_ratios), 'o')\n",
    "plt.axvline(x=4E-3, color='red', linewidth=0.5) # expected global minimum\n",
    "plt.xscale('log')"
   ]
  },
  {
   "cell_type": "code",
   "execution_count": null,
   "metadata": {},
   "outputs": [],
   "source": []
  }
 ],
 "metadata": {
  "kernelspec": {
   "display_name": "Python 2",
   "language": "python",
   "name": "python2"
  },
  "language_info": {
   "codemirror_mode": {
    "name": "ipython",
    "version": 2
   },
   "file_extension": ".py",
   "mimetype": "text/x-python",
   "name": "python",
   "nbconvert_exporter": "python",
   "pygments_lexer": "ipython2",
   "version": "2.7.16"
  }
 },
 "nbformat": 4,
 "nbformat_minor": 2
}
