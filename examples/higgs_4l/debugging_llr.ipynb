{
 "cells": [
  {
   "cell_type": "markdown",
   "metadata": {},
   "source": [
    "#### setup environment"
   ]
  },
  {
   "cell_type": "code",
   "execution_count": null,
   "metadata": {},
   "outputs": [],
   "source": [
    "from os import path, environ\n",
    "import numpy as np\n",
    "from matplotlib import pyplot as plt\n",
    "\n",
    "from madminer.sampling import SampleAugmenter, benchmark, benchmarks\n",
    "from madminer.ml import ParameterizedRatioEstimator\n",
    "\n",
    "from batch_madminer_event_runner import EventRunner\n",
    "%matplotlib inline\n",
    "\n",
    "working_dir = '~/scratch_dir/madminer_data_higgs4l' # cluster\n",
    "working_dir = '/scratch/madminer_data' # my computer\n",
    "\n",
    "er = EventRunner(working_dir)"
   ]
  },
  {
   "cell_type": "code",
   "execution_count": null,
   "metadata": {},
   "outputs": [],
   "source": [
    "# load sample augmenter\n",
    "n_test_events = 1000\n",
    "miner_data_shuffled_path = path.join(er.data_dir, 'data/miner_lhe_data_shuffled.h5')\n",
    "sa = SampleAugmenter(miner_data_shuffled_path)\n",
    "n_benchmarks = len(er.theta0_benchmarks)\n",
    "theta0_benchmarks_sublist = [er.theta0_benchmarks[0], er.theta0_benchmarks[n_benchmarks/2], er.theta0_benchmarks[-1]]\n",
    "theta0_benchmarks_sublist = er.theta0_benchmarks[0::4]\n",
    "colors = ['b', 'g', 'r']\n",
    "fig = plt.figure(figsize=(20,20))\n",
    "fig2 = plt.figure(figsize=(15,25))\n",
    "\n",
    "ax1 = fig.add_subplot(221)\n",
    "\n",
    "for idx, theta0_benchmark in enumerate(theta0_benchmarks_sublist):\n",
    "    test_result = sa.sample_train_ratio(\n",
    "        theta0=benchmark(theta0_benchmark.name),\n",
    "        theta1=benchmark(er.theta1_benchmark.name),\n",
    "        n_samples=n_test_events,\n",
    "        sample_only_from_closest_benchmark=True,\n",
    "        partition='test',\n",
    "        folder=path.join(er.data_dir, 'data/samples'),\n",
    "        filename='test_truth',\n",
    "    )\n",
    "    x, theta0, theta1, y, r_xz, t_xz, n_effective = test_result\n",
    "    m4l = np.log(x[:,-1])\n",
    "    ground_truth_log_likelihood_ratio = np.log(r_xz)\n",
    "\n",
    "    ratio_estimator = ParameterizedRatioEstimator(n_hidden=(100, 100))\n",
    "    ratio_estimator.load(path.join(er.data_dir, 'models/alice'))\n",
    "\n",
    "    estimated_log_likelihood_ratio, _ = ratio_estimator.evaluate_log_likelihood_ratio(\n",
    "        # x=path.join(er.data_dir, 'data/samples/x_test_truth.npy'),\n",
    "        x=x,\n",
    "        theta=theta0,\n",
    "        test_all_combinations=False\n",
    "    )\n",
    "\n",
    "    ax1.scatter(ground_truth_log_likelihood_ratio, estimated_log_likelihood_ratio, s=10, alpha=0.2, label=theta0_benchmark.name)\n",
    "    ax2 = fig2.add_subplot(len(theta0_benchmarks_sublist)/2 + 1, 2, 1+idx)\n",
    "    ax2.scatter(m4l, ground_truth_log_likelihood_ratio, s=10, alpha=0.2, c='g', label='truth')\n",
    "    ax2.scatter(m4l, estimated_log_likelihood_ratio, s=10, alpha=0.2, c='b', label='estimated')\n",
    "    ax2.set_title(theta0_benchmark.name)\n",
    "    ax2.set_xlabel('log(m4l)')\n",
    "    ax2.set_ylabel('log likelihood ratio')\n",
    "    ax2.legend()\n",
    "\n",
    "ax1.set_xlabel('ground truth')\n",
    "ax1.set_ylabel('estimated')\n",
    "ax1.legend()\n",
    "plt.close(fig)\n",
    "plt.close(fig2)\n",
    "fig\n"
   ]
  },
  {
   "cell_type": "code",
   "execution_count": null,
   "metadata": {},
   "outputs": [],
   "source": [
    "fig2"
   ]
  },
  {
   "cell_type": "code",
   "execution_count": null,
   "metadata": {},
   "outputs": [],
   "source": [
    "# plot two series based on values of y\n",
    "test_result = sa.sample_train_ratio(\n",
    "    theta0=benchmarks([b.name for b in er.theta0_benchmarks]),\n",
    "    theta1=benchmark(er.theta1_benchmark.name),\n",
    "    n_samples=n_test_events,\n",
    "    sample_only_from_closest_benchmark=True,\n",
    "    partition='test',\n",
    "    folder=path.join(er.data_dir, 'data/samples'),\n",
    "    filename='test_truth',\n",
    ")\n",
    "x, theta0, theta1, y, r_xz, t_xz, n_effective = test_result\n",
    "\n",
    "ground_truth_log_likelihood_ratio_y_1 = np.log(r_xz[np.array(y[:, 0], dtype=bool)])\n",
    "ground_truth_log_likelihood_ratio_y_0 = np.log(r_xz[np.array(0**y[:, 0], dtype=bool)])\n",
    "x_y_1 = x[np.array(y[:, 0], dtype=bool)]\n",
    "x_y_0 = x[np.array(0**y[:, 0], dtype=bool)]\n",
    "\n",
    "ratio_estimator = ParameterizedRatioEstimator(n_hidden=(100, 100))\n",
    "ratio_estimator.load(path.join(er.data_dir, 'models/alice'))\n",
    "\n",
    "estimated_log_likelihood_ratio_y_1, _ = ratio_estimator.evaluate_log_likelihood_ratio(\n",
    "    # x=path.join(er.data_dir, 'data/samples/x_test_truth.npy'),\n",
    "    x=x_y_1,\n",
    "    theta=theta0,\n",
    "    test_all_combinations=False\n",
    ")\n",
    "\n",
    "estimated_log_likelihood_ratio_y_0, _ = ratio_estimator.evaluate_log_likelihood_ratio(\n",
    "    # x=path.join(er.data_dir, 'data/samples/x_test_truth.npy'),\n",
    "    x=x_y_0,\n",
    "    theta=theta0,\n",
    "    test_all_combinations=False\n",
    ")\n",
    "\n",
    "fig = plt.figure(figsize=(6, 5))\n",
    "ax1 = fig.add_subplot(111)\n",
    "ax1.scatter(ground_truth_log_likelihood_ratio_y_1, estimated_log_likelihood_ratio_y_1, s=10, alpha=0.5, c='b', label='y=1')\n",
    "ax1.scatter(ground_truth_log_likelihood_ratio_y_0, estimated_log_likelihood_ratio_y_0, s=10, alpha=0.5, c='g', label='y=0')\n",
    "plt.legend()\n",
    "plt.show()"
   ]
  },
  {
   "cell_type": "code",
   "execution_count": null,
   "metadata": {},
   "outputs": [],
   "source": []
  }
 ],
 "metadata": {
  "kernelspec": {
   "display_name": "Python 2",
   "language": "python",
   "name": "python2"
  },
  "language_info": {
   "codemirror_mode": {
    "name": "ipython",
    "version": 2
   },
   "file_extension": ".py",
   "mimetype": "text/x-python",
   "name": "python",
   "nbconvert_exporter": "python",
   "pygments_lexer": "ipython2",
   "version": "2.7.16"
  }
 },
 "nbformat": 4,
 "nbformat_minor": 2
}
